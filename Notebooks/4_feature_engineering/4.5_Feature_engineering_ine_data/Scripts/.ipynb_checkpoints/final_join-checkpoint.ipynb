{
 "cells": [
  {
   "cell_type": "code",
   "execution_count": 1,
   "id": "22eda3c1",
   "metadata": {},
   "outputs": [],
   "source": [
    "import pandas as pd"
   ]
  },
  {
   "cell_type": "code",
   "execution_count": 11,
   "id": "fcb7152e",
   "metadata": {},
   "outputs": [],
   "source": [
    "pd.set_option('display.max_columns', None)"
   ]
  },
  {
   "cell_type": "code",
   "execution_count": 2,
   "id": "fd9847a1",
   "metadata": {},
   "outputs": [],
   "source": [
    "df_madrid = pd.read_csv('clean_data/madrid_cleaned_base_features.csv')\n",
    "df_barcelona = pd.read_csv('clean_data/barcelona_cleaned_base_features.csv')\n",
    "df_valencia = pd.read_csv('clean_data/valencia_cleaned_base_features.csv')\n",
    "\n",
    "dfs = [df_barcelona, df_valencia, df_madrid]\n",
    "\n",
    "ine_data = pd.read_csv('../../data/3_external_data/mapping_data/INE_DATA_1.csv')\n",
    "mapping_df = pd.read_csv('../../data/3_external_data/mapping_data/map_cs_pc.csv')"
   ]
  },
  {
   "cell_type": "code",
   "execution_count": 32,
   "id": "1b534681",
   "metadata": {},
   "outputs": [
    {
     "data": {
      "text/plain": [
       "64"
      ]
     },
     "execution_count": 32,
     "metadata": {},
     "output_type": "execute_result"
    }
   ],
   "source": [
    "len(df_madrid['ZIP_CODE'].unique())"
   ]
  },
  {
   "cell_type": "code",
   "execution_count": 33,
   "id": "13f6c65d",
   "metadata": {},
   "outputs": [
    {
     "data": {
      "text/plain": [
       "59"
      ]
     },
     "execution_count": 33,
     "metadata": {},
     "output_type": "execute_result"
    }
   ],
   "source": [
    "len(madrid_final['ZIP_CODE'].unique())"
   ]
  },
  {
   "cell_type": "code",
   "execution_count": 3,
   "id": "185453d9",
   "metadata": {},
   "outputs": [],
   "source": [
    "mapping_df.drop(columns='Unnamed: 0', inplace=True)"
   ]
  },
  {
   "cell_type": "code",
   "execution_count": 4,
   "id": "22c620f5",
   "metadata": {},
   "outputs": [],
   "source": [
    "mapping_df['Postal_Code'] = mapping_df['Postal_Code'].astype(str).str.zfill(5)\n",
    "df_barcelona['ZIP_CODE'] = df_barcelona['ZIP_CODE'].astype(str).str.zfill(5)\n",
    "ine_data['Census section'] = ine_data['Census section'].astype(str).str.zfill(10)\n",
    "mapping_df['Nearest_Centroid_ID'] = mapping_df['Nearest_Centroid_ID'].astype(str).str.zfill(10)\n",
    "mapping_df['Distance_to_Centroid'] = pd.to_numeric(mapping_df['Distance_to_Centroid'], errors='coerce')\n",
    "\n",
    "duplicates = mapping_df[mapping_df.duplicated('Postal_Code', keep=False)]\n",
    "\n",
    "filtered_df = duplicates.loc[duplicates.groupby('Postal_Code')['Distance_to_Centroid'].idxmin()]\n",
    "unique_postal_codes = mapping_df.drop_duplicates('Postal_Code', keep=False)\n",
    "\n",
    "final_df = pd.concat([filtered_df, unique_postal_codes])\n",
    "final_df = final_df.reset_index(drop=True)\n",
    "\n",
    "ine_data['Census section'] = ine_data['Census section'].astype(str)"
   ]
  },
  {
   "cell_type": "code",
   "execution_count": 5,
   "id": "b183940b",
   "metadata": {},
   "outputs": [],
   "source": [
    "final_df = final_df.rename(columns={'Nearest_Centroid_ID': 'Census section'})\n",
    "merged_df = pd.merge(final_df, ine_data, on='Census section')"
   ]
  },
  {
   "cell_type": "code",
   "execution_count": 6,
   "id": "adf4caaa",
   "metadata": {},
   "outputs": [],
   "source": [
    "merged_df = (merged_df.drop(columns=['Latitude', 'Longitude', 'Admin_Code3', 'Distance_to_Centroid'])\n",
    "                     .rename(columns={'Postal_Code':'ZIP_CODE'}))"
   ]
  },
  {
   "cell_type": "code",
   "execution_count": 7,
   "id": "7af7f29d",
   "metadata": {},
   "outputs": [],
   "source": [
    "merged_df['ZIP_CODE'] = merged_df['ZIP_CODE'].astype(str)\n",
    "df_barcelona['ZIP_CODE'] = df_barcelona['ZIP_CODE'].astype(str)\n",
    "df_madrid['ZIP_CODE'] = df_madrid['ZIP_CODE'].astype(str)\n",
    "df_valencia['ZIP_CODE'] = df_valencia['ZIP_CODE'].astype(str)"
   ]
  },
  {
   "cell_type": "code",
   "execution_count": 8,
   "id": "7c672686",
   "metadata": {},
   "outputs": [],
   "source": [
    "def final_join(city_df, merged_df):  \n",
    "    joined_df = pd.merge(city_df, merged_df, on='ZIP_CODE')\n",
    "    return joined_df"
   ]
  },
  {
   "cell_type": "code",
   "execution_count": 9,
   "id": "71ecd68d",
   "metadata": {},
   "outputs": [],
   "source": [
    "madrid_final = final_join(df_madrid, merged_df)\n",
    "barcelona_final = final_join(df_barcelona, merged_df)\n",
    "valencia_final = final_join(df_valencia, merged_df)"
   ]
  },
  {
   "cell_type": "code",
   "execution_count": null,
   "id": "bc1ad53b",
   "metadata": {},
   "outputs": [],
   "source": [
    "madrid_final.to_csv('../../data/5_cleaned_and_feature_engineering/cleaned_with_ine/madrid_cleaned_with_ine.csv')\n",
    "barcelona_final.to_csv('../../data/5_cleaned_and_feature_engineering/cleaned_with_ine/cleaned_with_ine/barcelona_cleaned_with_ine.csv')\n",
    "valencia_final.to_csv('../../data/5_cleaned_and_feature_engineering/cleaned_with_ine/cleaned_with_ine/valencia_cleaned_with_ine.csv')"
   ]
  }
 ],
 "metadata": {
  "kernelspec": {
   "display_name": "Python 3 (ipykernel)",
   "language": "python",
   "name": "python3"
  },
  "language_info": {
   "codemirror_mode": {
    "name": "ipython",
    "version": 3
   },
   "file_extension": ".py",
   "mimetype": "text/x-python",
   "name": "python",
   "nbconvert_exporter": "python",
   "pygments_lexer": "ipython3",
   "version": "3.11.4"
  }
 },
 "nbformat": 4,
 "nbformat_minor": 5
}
